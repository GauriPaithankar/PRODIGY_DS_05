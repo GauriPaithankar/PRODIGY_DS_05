{
 "cells": [
  {
   "cell_type": "markdown",
   "id": "e0aaa981",
   "metadata": {},
   "source": [
    "## Task 5: Analyze traffic accident data to identify patterns related to road conditions, weather, and time of day. Visualize accident hotspots and contributing factors.\n",
    "\n"
   ]
  },
  {
   "cell_type": "markdown",
   "id": "4a38695f",
   "metadata": {},
   "source": [
    "### import libraries"
   ]
  },
  {
   "cell_type": "code",
   "execution_count": 1,
   "id": "5692fac4",
   "metadata": {},
   "outputs": [],
   "source": [
    "import numpy as np\n",
    "import pandas as pd\n",
    "import seaborn as sns\n",
    "from matplotlib import pyplot as plt\n",
    "%matplotlib inline\n",
    "\n",
    "import warnings\n",
    "warnings.filterwarnings('ignore')"
   ]
  },
  {
   "cell_type": "markdown",
   "id": "68ab4577",
   "metadata": {},
   "source": [
    "### load dataset"
   ]
  },
  {
   "cell_type": "code",
   "execution_count": 2,
   "id": "c74390a7",
   "metadata": {},
   "outputs": [],
   "source": [
    "df = pd.read_csv(\"https://raw.githubusercontent.com/GauriPaithankar/Datasets/main/accident_data.csv\")"
   ]
  },
  {
   "cell_type": "markdown",
   "id": "802152e2",
   "metadata": {},
   "source": [
    "### data exploration"
   ]
  },
  {
   "cell_type": "code",
   "execution_count": 3,
   "id": "2c6a9ce4",
   "metadata": {},
   "outputs": [
    {
     "data": {
      "text/plain": [
       "(147, 17)"
      ]
     },
     "execution_count": 3,
     "metadata": {},
     "output_type": "execute_result"
    }
   ],
   "source": [
    "df.shape"
   ]
  },
  {
   "cell_type": "code",
   "execution_count": 4,
   "id": "1ad32f8b",
   "metadata": {},
   "outputs": [
    {
     "data": {
      "text/html": [
       "<div>\n",
       "<style scoped>\n",
       "    .dataframe tbody tr th:only-of-type {\n",
       "        vertical-align: middle;\n",
       "    }\n",
       "\n",
       "    .dataframe tbody tr th {\n",
       "        vertical-align: top;\n",
       "    }\n",
       "\n",
       "    .dataframe thead th {\n",
       "        text-align: right;\n",
       "    }\n",
       "</style>\n",
       "<table border=\"1\" class=\"dataframe\">\n",
       "  <thead>\n",
       "    <tr style=\"text-align: right;\">\n",
       "      <th></th>\n",
       "      <th>Date</th>\n",
       "      <th>Time</th>\n",
       "      <th>Latitude</th>\n",
       "      <th>Longitude</th>\n",
       "      <th>Location Description</th>\n",
       "      <th>Weather Conditions</th>\n",
       "      <th>Road Conditions</th>\n",
       "      <th>Visibility</th>\n",
       "      <th>Accident Type</th>\n",
       "      <th>Injury Severity</th>\n",
       "      <th>Contributing Factors</th>\n",
       "      <th>Vehicle Type</th>\n",
       "      <th>No of Vehichles</th>\n",
       "      <th>Vehicle Speed</th>\n",
       "      <th>Day of Week</th>\n",
       "      <th>Month</th>\n",
       "      <th>Year</th>\n",
       "    </tr>\n",
       "  </thead>\n",
       "  <tbody>\n",
       "    <tr>\n",
       "      <th>0</th>\n",
       "      <td>05-01-2022</td>\n",
       "      <td>15:30:00</td>\n",
       "      <td>40.7128</td>\n",
       "      <td>-74.0060</td>\n",
       "      <td>Highway</td>\n",
       "      <td>Foggy</td>\n",
       "      <td>Wet</td>\n",
       "      <td>Poor</td>\n",
       "      <td>Collision</td>\n",
       "      <td>Moderate</td>\n",
       "      <td>Speeding</td>\n",
       "      <td>Truck</td>\n",
       "      <td>1</td>\n",
       "      <td>45</td>\n",
       "      <td>Wednesday</td>\n",
       "      <td>January</td>\n",
       "      <td>2022</td>\n",
       "    </tr>\n",
       "    <tr>\n",
       "      <th>1</th>\n",
       "      <td>10-02-2022</td>\n",
       "      <td>18:45:00</td>\n",
       "      <td>41.8781</td>\n",
       "      <td>-87.6298</td>\n",
       "      <td>Street</td>\n",
       "      <td>Rainy</td>\n",
       "      <td>Wet</td>\n",
       "      <td>Poor</td>\n",
       "      <td>Rollover</td>\n",
       "      <td>Severe</td>\n",
       "      <td>Drunk Driving</td>\n",
       "      <td>Motorcycle</td>\n",
       "      <td>1</td>\n",
       "      <td>40</td>\n",
       "      <td>Thursday</td>\n",
       "      <td>February</td>\n",
       "      <td>2022</td>\n",
       "    </tr>\n",
       "    <tr>\n",
       "      <th>2</th>\n",
       "      <td>15-03-2022</td>\n",
       "      <td>12:00:00</td>\n",
       "      <td>37.7749</td>\n",
       "      <td>-122.4194</td>\n",
       "      <td>Intersection</td>\n",
       "      <td>Clear</td>\n",
       "      <td>Dry</td>\n",
       "      <td>Clear</td>\n",
       "      <td>Collision</td>\n",
       "      <td>Moderate</td>\n",
       "      <td>Weather</td>\n",
       "      <td>Car</td>\n",
       "      <td>2</td>\n",
       "      <td>25</td>\n",
       "      <td>Tuesday</td>\n",
       "      <td>March</td>\n",
       "      <td>2022</td>\n",
       "    </tr>\n",
       "    <tr>\n",
       "      <th>3</th>\n",
       "      <td>20-04-2022</td>\n",
       "      <td>09:20:00</td>\n",
       "      <td>34.0522</td>\n",
       "      <td>-118.2437</td>\n",
       "      <td>Highway</td>\n",
       "      <td>Clear</td>\n",
       "      <td>Dry</td>\n",
       "      <td>Clear</td>\n",
       "      <td>Collision</td>\n",
       "      <td>Minor</td>\n",
       "      <td>Other</td>\n",
       "      <td>Car</td>\n",
       "      <td>2</td>\n",
       "      <td>35</td>\n",
       "      <td>Wednesday</td>\n",
       "      <td>April</td>\n",
       "      <td>2022</td>\n",
       "    </tr>\n",
       "    <tr>\n",
       "      <th>4</th>\n",
       "      <td>25-05-2022</td>\n",
       "      <td>17:10:00</td>\n",
       "      <td>40.7128</td>\n",
       "      <td>-74.0060</td>\n",
       "      <td>Street</td>\n",
       "      <td>Rainy</td>\n",
       "      <td>Wet</td>\n",
       "      <td>Poor</td>\n",
       "      <td>Collision</td>\n",
       "      <td>Severe</td>\n",
       "      <td>Speeding</td>\n",
       "      <td>Car</td>\n",
       "      <td>1</td>\n",
       "      <td>50</td>\n",
       "      <td>Wednesday</td>\n",
       "      <td>May</td>\n",
       "      <td>2022</td>\n",
       "    </tr>\n",
       "  </tbody>\n",
       "</table>\n",
       "</div>"
      ],
      "text/plain": [
       "         Date      Time  Latitude  Longitude Location Description  \\\n",
       "0  05-01-2022  15:30:00   40.7128   -74.0060              Highway   \n",
       "1  10-02-2022  18:45:00   41.8781   -87.6298               Street   \n",
       "2  15-03-2022  12:00:00   37.7749  -122.4194         Intersection   \n",
       "3  20-04-2022  09:20:00   34.0522  -118.2437              Highway   \n",
       "4  25-05-2022  17:10:00   40.7128   -74.0060               Street   \n",
       "\n",
       "  Weather Conditions Road Conditions Visibility Accident Type Injury Severity  \\\n",
       "0              Foggy             Wet       Poor     Collision        Moderate   \n",
       "1              Rainy             Wet       Poor      Rollover          Severe   \n",
       "2              Clear             Dry      Clear     Collision        Moderate   \n",
       "3              Clear             Dry      Clear     Collision           Minor   \n",
       "4              Rainy             Wet       Poor     Collision          Severe   \n",
       "\n",
       "  Contributing Factors Vehicle Type  No of Vehichles  Vehicle Speed  \\\n",
       "0             Speeding        Truck                1             45   \n",
       "1        Drunk Driving   Motorcycle                1             40   \n",
       "2              Weather          Car                2             25   \n",
       "3                Other          Car                2             35   \n",
       "4             Speeding          Car                1             50   \n",
       "\n",
       "  Day of Week     Month  Year  \n",
       "0   Wednesday   January  2022  \n",
       "1    Thursday  February  2022  \n",
       "2     Tuesday     March  2022  \n",
       "3   Wednesday     April  2022  \n",
       "4   Wednesday       May  2022  "
      ]
     },
     "execution_count": 4,
     "metadata": {},
     "output_type": "execute_result"
    }
   ],
   "source": [
    "df.head(5)"
   ]
  },
  {
   "cell_type": "code",
   "execution_count": 5,
   "id": "a09d5441",
   "metadata": {},
   "outputs": [
    {
     "name": "stdout",
     "output_type": "stream",
     "text": [
      "<class 'pandas.core.frame.DataFrame'>\n",
      "RangeIndex: 147 entries, 0 to 146\n",
      "Data columns (total 17 columns):\n",
      " #   Column                Non-Null Count  Dtype  \n",
      "---  ------                --------------  -----  \n",
      " 0   Date                  147 non-null    object \n",
      " 1   Time                  147 non-null    object \n",
      " 2   Latitude              147 non-null    float64\n",
      " 3   Longitude             147 non-null    float64\n",
      " 4   Location Description  147 non-null    object \n",
      " 5   Weather Conditions    147 non-null    object \n",
      " 6   Road Conditions       147 non-null    object \n",
      " 7   Visibility            147 non-null    object \n",
      " 8   Accident Type         147 non-null    object \n",
      " 9   Injury Severity       147 non-null    object \n",
      " 10  Contributing Factors  147 non-null    object \n",
      " 11  Vehicle Type          147 non-null    object \n",
      " 12  No of Vehichles       147 non-null    int64  \n",
      " 13  Vehicle Speed         147 non-null    int64  \n",
      " 14  Day of Week           147 non-null    object \n",
      " 15  Month                 147 non-null    object \n",
      " 16  Year                  147 non-null    int64  \n",
      "dtypes: float64(2), int64(3), object(12)\n",
      "memory usage: 19.7+ KB\n"
     ]
    }
   ],
   "source": [
    "df.info()"
   ]
  },
  {
   "cell_type": "code",
   "execution_count": 6,
   "id": "4d32189b",
   "metadata": {},
   "outputs": [
    {
     "data": {
      "text/html": [
       "<div>\n",
       "<style scoped>\n",
       "    .dataframe tbody tr th:only-of-type {\n",
       "        vertical-align: middle;\n",
       "    }\n",
       "\n",
       "    .dataframe tbody tr th {\n",
       "        vertical-align: top;\n",
       "    }\n",
       "\n",
       "    .dataframe thead th {\n",
       "        text-align: right;\n",
       "    }\n",
       "</style>\n",
       "<table border=\"1\" class=\"dataframe\">\n",
       "  <thead>\n",
       "    <tr style=\"text-align: right;\">\n",
       "      <th></th>\n",
       "      <th>Latitude</th>\n",
       "      <th>Longitude</th>\n",
       "      <th>No of Vehichles</th>\n",
       "      <th>Vehicle Speed</th>\n",
       "      <th>Year</th>\n",
       "    </tr>\n",
       "  </thead>\n",
       "  <tbody>\n",
       "    <tr>\n",
       "      <th>count</th>\n",
       "      <td>147.000000</td>\n",
       "      <td>147.000000</td>\n",
       "      <td>147.000000</td>\n",
       "      <td>147.000000</td>\n",
       "      <td>147.000000</td>\n",
       "    </tr>\n",
       "    <tr>\n",
       "      <th>mean</th>\n",
       "      <td>38.325525</td>\n",
       "      <td>-98.649265</td>\n",
       "      <td>1.428571</td>\n",
       "      <td>38.843537</td>\n",
       "      <td>2022.979592</td>\n",
       "    </tr>\n",
       "    <tr>\n",
       "      <th>std</th>\n",
       "      <td>3.197276</td>\n",
       "      <td>20.962406</td>\n",
       "      <td>0.496564</td>\n",
       "      <td>8.110285</td>\n",
       "      <td>0.823203</td>\n",
       "    </tr>\n",
       "    <tr>\n",
       "      <th>min</th>\n",
       "      <td>34.052200</td>\n",
       "      <td>-122.419400</td>\n",
       "      <td>1.000000</td>\n",
       "      <td>25.000000</td>\n",
       "      <td>2022.000000</td>\n",
       "    </tr>\n",
       "    <tr>\n",
       "      <th>25%</th>\n",
       "      <td>34.052200</td>\n",
       "      <td>-118.243700</td>\n",
       "      <td>1.000000</td>\n",
       "      <td>30.000000</td>\n",
       "      <td>2022.000000</td>\n",
       "    </tr>\n",
       "    <tr>\n",
       "      <th>50%</th>\n",
       "      <td>40.712800</td>\n",
       "      <td>-87.629800</td>\n",
       "      <td>1.000000</td>\n",
       "      <td>35.000000</td>\n",
       "      <td>2023.000000</td>\n",
       "    </tr>\n",
       "    <tr>\n",
       "      <th>75%</th>\n",
       "      <td>40.712800</td>\n",
       "      <td>-74.006000</td>\n",
       "      <td>2.000000</td>\n",
       "      <td>45.000000</td>\n",
       "      <td>2024.000000</td>\n",
       "    </tr>\n",
       "    <tr>\n",
       "      <th>max</th>\n",
       "      <td>41.878100</td>\n",
       "      <td>-74.006000</td>\n",
       "      <td>2.000000</td>\n",
       "      <td>55.000000</td>\n",
       "      <td>2024.000000</td>\n",
       "    </tr>\n",
       "  </tbody>\n",
       "</table>\n",
       "</div>"
      ],
      "text/plain": [
       "         Latitude   Longitude  No of Vehichles  Vehicle Speed         Year\n",
       "count  147.000000  147.000000       147.000000     147.000000   147.000000\n",
       "mean    38.325525  -98.649265         1.428571      38.843537  2022.979592\n",
       "std      3.197276   20.962406         0.496564       8.110285     0.823203\n",
       "min     34.052200 -122.419400         1.000000      25.000000  2022.000000\n",
       "25%     34.052200 -118.243700         1.000000      30.000000  2022.000000\n",
       "50%     40.712800  -87.629800         1.000000      35.000000  2023.000000\n",
       "75%     40.712800  -74.006000         2.000000      45.000000  2024.000000\n",
       "max     41.878100  -74.006000         2.000000      55.000000  2024.000000"
      ]
     },
     "execution_count": 6,
     "metadata": {},
     "output_type": "execute_result"
    }
   ],
   "source": [
    "df.describe()"
   ]
  },
  {
   "cell_type": "markdown",
   "id": "2c8c1835",
   "metadata": {},
   "source": [
    "### drop date & time column"
   ]
  },
  {
   "cell_type": "code",
   "execution_count": 7,
   "id": "5b4087fa",
   "metadata": {},
   "outputs": [],
   "source": [
    "df.drop(['Date','Time'], axis=1, inplace=True)"
   ]
  },
  {
   "cell_type": "code",
   "execution_count": 8,
   "id": "0ecba77e",
   "metadata": {},
   "outputs": [
    {
     "data": {
      "text/html": [
       "<div>\n",
       "<style scoped>\n",
       "    .dataframe tbody tr th:only-of-type {\n",
       "        vertical-align: middle;\n",
       "    }\n",
       "\n",
       "    .dataframe tbody tr th {\n",
       "        vertical-align: top;\n",
       "    }\n",
       "\n",
       "    .dataframe thead th {\n",
       "        text-align: right;\n",
       "    }\n",
       "</style>\n",
       "<table border=\"1\" class=\"dataframe\">\n",
       "  <thead>\n",
       "    <tr style=\"text-align: right;\">\n",
       "      <th></th>\n",
       "      <th>Latitude</th>\n",
       "      <th>Longitude</th>\n",
       "      <th>Location Description</th>\n",
       "      <th>Weather Conditions</th>\n",
       "      <th>Road Conditions</th>\n",
       "      <th>Visibility</th>\n",
       "      <th>Accident Type</th>\n",
       "      <th>Injury Severity</th>\n",
       "      <th>Contributing Factors</th>\n",
       "      <th>Vehicle Type</th>\n",
       "      <th>No of Vehichles</th>\n",
       "      <th>Vehicle Speed</th>\n",
       "      <th>Day of Week</th>\n",
       "      <th>Month</th>\n",
       "      <th>Year</th>\n",
       "    </tr>\n",
       "  </thead>\n",
       "  <tbody>\n",
       "    <tr>\n",
       "      <th>0</th>\n",
       "      <td>40.7128</td>\n",
       "      <td>-74.0060</td>\n",
       "      <td>Highway</td>\n",
       "      <td>Foggy</td>\n",
       "      <td>Wet</td>\n",
       "      <td>Poor</td>\n",
       "      <td>Collision</td>\n",
       "      <td>Moderate</td>\n",
       "      <td>Speeding</td>\n",
       "      <td>Truck</td>\n",
       "      <td>1</td>\n",
       "      <td>45</td>\n",
       "      <td>Wednesday</td>\n",
       "      <td>January</td>\n",
       "      <td>2022</td>\n",
       "    </tr>\n",
       "    <tr>\n",
       "      <th>1</th>\n",
       "      <td>41.8781</td>\n",
       "      <td>-87.6298</td>\n",
       "      <td>Street</td>\n",
       "      <td>Rainy</td>\n",
       "      <td>Wet</td>\n",
       "      <td>Poor</td>\n",
       "      <td>Rollover</td>\n",
       "      <td>Severe</td>\n",
       "      <td>Drunk Driving</td>\n",
       "      <td>Motorcycle</td>\n",
       "      <td>1</td>\n",
       "      <td>40</td>\n",
       "      <td>Thursday</td>\n",
       "      <td>February</td>\n",
       "      <td>2022</td>\n",
       "    </tr>\n",
       "  </tbody>\n",
       "</table>\n",
       "</div>"
      ],
      "text/plain": [
       "   Latitude  Longitude Location Description Weather Conditions  \\\n",
       "0   40.7128   -74.0060              Highway              Foggy   \n",
       "1   41.8781   -87.6298               Street              Rainy   \n",
       "\n",
       "  Road Conditions Visibility Accident Type Injury Severity  \\\n",
       "0             Wet       Poor     Collision        Moderate   \n",
       "1             Wet       Poor      Rollover          Severe   \n",
       "\n",
       "  Contributing Factors Vehicle Type  No of Vehichles  Vehicle Speed  \\\n",
       "0             Speeding        Truck                1             45   \n",
       "1        Drunk Driving   Motorcycle                1             40   \n",
       "\n",
       "  Day of Week     Month  Year  \n",
       "0   Wednesday   January  2022  \n",
       "1    Thursday  February  2022  "
      ]
     },
     "execution_count": 8,
     "metadata": {},
     "output_type": "execute_result"
    }
   ],
   "source": [
    "df.head(2)"
   ]
  },
  {
   "cell_type": "markdown",
   "id": "c6146b9a",
   "metadata": {},
   "source": [
    "### label encoding"
   ]
  },
  {
   "cell_type": "code",
   "execution_count": 9,
   "id": "29d939d6",
   "metadata": {},
   "outputs": [],
   "source": [
    "from sklearn import preprocessing "
   ]
  },
  {
   "cell_type": "code",
   "execution_count": 10,
   "id": "9b074407",
   "metadata": {},
   "outputs": [],
   "source": [
    " label_encoder = preprocessing.LabelEncoder()"
   ]
  },
  {
   "cell_type": "code",
   "execution_count": 11,
   "id": "5c0a5c25",
   "metadata": {},
   "outputs": [],
   "source": [
    "df['Location Description']= label_encoder.fit_transform(df['Location Description']) "
   ]
  },
  {
   "cell_type": "code",
   "execution_count": 12,
   "id": "fc33a9b6",
   "metadata": {},
   "outputs": [],
   "source": [
    "df['Weather Conditions']= label_encoder.fit_transform(df['Weather Conditions']) "
   ]
  },
  {
   "cell_type": "code",
   "execution_count": 13,
   "id": "8b8e0653",
   "metadata": {},
   "outputs": [],
   "source": [
    "df['Road Conditions']= label_encoder.fit_transform(df['Road Conditions']) "
   ]
  },
  {
   "cell_type": "code",
   "execution_count": 14,
   "id": "b7c11f50",
   "metadata": {},
   "outputs": [],
   "source": [
    "df['Visibility']= label_encoder.fit_transform(df['Visibility']) "
   ]
  },
  {
   "cell_type": "code",
   "execution_count": 15,
   "id": "eaec1fdb",
   "metadata": {},
   "outputs": [],
   "source": [
    "df['Accident Type']= label_encoder.fit_transform(df['Accident Type']) "
   ]
  },
  {
   "cell_type": "code",
   "execution_count": 16,
   "id": "fe288992",
   "metadata": {},
   "outputs": [],
   "source": [
    "df['Injury Severity']= label_encoder.fit_transform(df['Injury Severity']) "
   ]
  },
  {
   "cell_type": "code",
   "execution_count": 17,
   "id": "489683e2",
   "metadata": {},
   "outputs": [],
   "source": [
    "df['Contributing Factors']= label_encoder.fit_transform(df['Contributing Factors']) "
   ]
  },
  {
   "cell_type": "code",
   "execution_count": 18,
   "id": "f6acce6f",
   "metadata": {},
   "outputs": [],
   "source": [
    "df['Vehicle Type']= label_encoder.fit_transform(df['Vehicle Type']) "
   ]
  },
  {
   "cell_type": "code",
   "execution_count": 19,
   "id": "ac99d290",
   "metadata": {},
   "outputs": [],
   "source": [
    "df['Day of Week']= label_encoder.fit_transform(df['Day of Week']) "
   ]
  },
  {
   "cell_type": "code",
   "execution_count": 20,
   "id": "983187ec",
   "metadata": {},
   "outputs": [],
   "source": [
    "df['Month']= label_encoder.fit_transform(df['Month']) "
   ]
  },
  {
   "cell_type": "code",
   "execution_count": 21,
   "id": "d3c61dee",
   "metadata": {},
   "outputs": [
    {
     "data": {
      "text/html": [
       "<div>\n",
       "<style scoped>\n",
       "    .dataframe tbody tr th:only-of-type {\n",
       "        vertical-align: middle;\n",
       "    }\n",
       "\n",
       "    .dataframe tbody tr th {\n",
       "        vertical-align: top;\n",
       "    }\n",
       "\n",
       "    .dataframe thead th {\n",
       "        text-align: right;\n",
       "    }\n",
       "</style>\n",
       "<table border=\"1\" class=\"dataframe\">\n",
       "  <thead>\n",
       "    <tr style=\"text-align: right;\">\n",
       "      <th></th>\n",
       "      <th>Latitude</th>\n",
       "      <th>Longitude</th>\n",
       "      <th>Location Description</th>\n",
       "      <th>Weather Conditions</th>\n",
       "      <th>Road Conditions</th>\n",
       "      <th>Visibility</th>\n",
       "      <th>Accident Type</th>\n",
       "      <th>Injury Severity</th>\n",
       "      <th>Contributing Factors</th>\n",
       "      <th>Vehicle Type</th>\n",
       "      <th>No of Vehichles</th>\n",
       "      <th>Vehicle Speed</th>\n",
       "      <th>Day of Week</th>\n",
       "      <th>Month</th>\n",
       "      <th>Year</th>\n",
       "    </tr>\n",
       "  </thead>\n",
       "  <tbody>\n",
       "    <tr>\n",
       "      <th>0</th>\n",
       "      <td>40.7128</td>\n",
       "      <td>-74.0060</td>\n",
       "      <td>0</td>\n",
       "      <td>1</td>\n",
       "      <td>1</td>\n",
       "      <td>1</td>\n",
       "      <td>0</td>\n",
       "      <td>1</td>\n",
       "      <td>3</td>\n",
       "      <td>2</td>\n",
       "      <td>1</td>\n",
       "      <td>45</td>\n",
       "      <td>3</td>\n",
       "      <td>4</td>\n",
       "      <td>2022</td>\n",
       "    </tr>\n",
       "    <tr>\n",
       "      <th>1</th>\n",
       "      <td>41.8781</td>\n",
       "      <td>-87.6298</td>\n",
       "      <td>2</td>\n",
       "      <td>2</td>\n",
       "      <td>1</td>\n",
       "      <td>1</td>\n",
       "      <td>1</td>\n",
       "      <td>2</td>\n",
       "      <td>1</td>\n",
       "      <td>1</td>\n",
       "      <td>1</td>\n",
       "      <td>40</td>\n",
       "      <td>1</td>\n",
       "      <td>3</td>\n",
       "      <td>2022</td>\n",
       "    </tr>\n",
       "    <tr>\n",
       "      <th>2</th>\n",
       "      <td>37.7749</td>\n",
       "      <td>-122.4194</td>\n",
       "      <td>1</td>\n",
       "      <td>0</td>\n",
       "      <td>0</td>\n",
       "      <td>0</td>\n",
       "      <td>0</td>\n",
       "      <td>1</td>\n",
       "      <td>4</td>\n",
       "      <td>0</td>\n",
       "      <td>2</td>\n",
       "      <td>25</td>\n",
       "      <td>2</td>\n",
       "      <td>7</td>\n",
       "      <td>2022</td>\n",
       "    </tr>\n",
       "    <tr>\n",
       "      <th>3</th>\n",
       "      <td>34.0522</td>\n",
       "      <td>-118.2437</td>\n",
       "      <td>0</td>\n",
       "      <td>0</td>\n",
       "      <td>0</td>\n",
       "      <td>0</td>\n",
       "      <td>0</td>\n",
       "      <td>0</td>\n",
       "      <td>2</td>\n",
       "      <td>0</td>\n",
       "      <td>2</td>\n",
       "      <td>35</td>\n",
       "      <td>3</td>\n",
       "      <td>0</td>\n",
       "      <td>2022</td>\n",
       "    </tr>\n",
       "    <tr>\n",
       "      <th>4</th>\n",
       "      <td>40.7128</td>\n",
       "      <td>-74.0060</td>\n",
       "      <td>2</td>\n",
       "      <td>2</td>\n",
       "      <td>1</td>\n",
       "      <td>1</td>\n",
       "      <td>0</td>\n",
       "      <td>2</td>\n",
       "      <td>3</td>\n",
       "      <td>0</td>\n",
       "      <td>1</td>\n",
       "      <td>50</td>\n",
       "      <td>3</td>\n",
       "      <td>8</td>\n",
       "      <td>2022</td>\n",
       "    </tr>\n",
       "    <tr>\n",
       "      <th>5</th>\n",
       "      <td>41.8781</td>\n",
       "      <td>-87.6298</td>\n",
       "      <td>1</td>\n",
       "      <td>0</td>\n",
       "      <td>0</td>\n",
       "      <td>0</td>\n",
       "      <td>1</td>\n",
       "      <td>0</td>\n",
       "      <td>0</td>\n",
       "      <td>2</td>\n",
       "      <td>1</td>\n",
       "      <td>35</td>\n",
       "      <td>1</td>\n",
       "      <td>6</td>\n",
       "      <td>2022</td>\n",
       "    </tr>\n",
       "    <tr>\n",
       "      <th>6</th>\n",
       "      <td>34.0522</td>\n",
       "      <td>-118.2437</td>\n",
       "      <td>2</td>\n",
       "      <td>0</td>\n",
       "      <td>0</td>\n",
       "      <td>0</td>\n",
       "      <td>0</td>\n",
       "      <td>1</td>\n",
       "      <td>3</td>\n",
       "      <td>0</td>\n",
       "      <td>2</td>\n",
       "      <td>40</td>\n",
       "      <td>0</td>\n",
       "      <td>5</td>\n",
       "      <td>2022</td>\n",
       "    </tr>\n",
       "    <tr>\n",
       "      <th>7</th>\n",
       "      <td>40.7128</td>\n",
       "      <td>-74.0060</td>\n",
       "      <td>0</td>\n",
       "      <td>2</td>\n",
       "      <td>1</td>\n",
       "      <td>1</td>\n",
       "      <td>1</td>\n",
       "      <td>2</td>\n",
       "      <td>1</td>\n",
       "      <td>1</td>\n",
       "      <td>1</td>\n",
       "      <td>30</td>\n",
       "      <td>3</td>\n",
       "      <td>1</td>\n",
       "      <td>2022</td>\n",
       "    </tr>\n",
       "    <tr>\n",
       "      <th>8</th>\n",
       "      <td>37.7749</td>\n",
       "      <td>-122.4194</td>\n",
       "      <td>1</td>\n",
       "      <td>0</td>\n",
       "      <td>0</td>\n",
       "      <td>0</td>\n",
       "      <td>0</td>\n",
       "      <td>1</td>\n",
       "      <td>4</td>\n",
       "      <td>0</td>\n",
       "      <td>2</td>\n",
       "      <td>35</td>\n",
       "      <td>1</td>\n",
       "      <td>11</td>\n",
       "      <td>2022</td>\n",
       "    </tr>\n",
       "    <tr>\n",
       "      <th>9</th>\n",
       "      <td>34.0522</td>\n",
       "      <td>-118.2437</td>\n",
       "      <td>0</td>\n",
       "      <td>0</td>\n",
       "      <td>0</td>\n",
       "      <td>0</td>\n",
       "      <td>0</td>\n",
       "      <td>0</td>\n",
       "      <td>2</td>\n",
       "      <td>0</td>\n",
       "      <td>2</td>\n",
       "      <td>45</td>\n",
       "      <td>3</td>\n",
       "      <td>10</td>\n",
       "      <td>2022</td>\n",
       "    </tr>\n",
       "  </tbody>\n",
       "</table>\n",
       "</div>"
      ],
      "text/plain": [
       "   Latitude  Longitude  Location Description  Weather Conditions  \\\n",
       "0   40.7128   -74.0060                     0                   1   \n",
       "1   41.8781   -87.6298                     2                   2   \n",
       "2   37.7749  -122.4194                     1                   0   \n",
       "3   34.0522  -118.2437                     0                   0   \n",
       "4   40.7128   -74.0060                     2                   2   \n",
       "5   41.8781   -87.6298                     1                   0   \n",
       "6   34.0522  -118.2437                     2                   0   \n",
       "7   40.7128   -74.0060                     0                   2   \n",
       "8   37.7749  -122.4194                     1                   0   \n",
       "9   34.0522  -118.2437                     0                   0   \n",
       "\n",
       "   Road Conditions  Visibility  Accident Type  Injury Severity  \\\n",
       "0                1           1              0                1   \n",
       "1                1           1              1                2   \n",
       "2                0           0              0                1   \n",
       "3                0           0              0                0   \n",
       "4                1           1              0                2   \n",
       "5                0           0              1                0   \n",
       "6                0           0              0                1   \n",
       "7                1           1              1                2   \n",
       "8                0           0              0                1   \n",
       "9                0           0              0                0   \n",
       "\n",
       "   Contributing Factors  Vehicle Type  No of Vehichles  Vehicle Speed  \\\n",
       "0                     3             2                1             45   \n",
       "1                     1             1                1             40   \n",
       "2                     4             0                2             25   \n",
       "3                     2             0                2             35   \n",
       "4                     3             0                1             50   \n",
       "5                     0             2                1             35   \n",
       "6                     3             0                2             40   \n",
       "7                     1             1                1             30   \n",
       "8                     4             0                2             35   \n",
       "9                     2             0                2             45   \n",
       "\n",
       "   Day of Week  Month  Year  \n",
       "0            3      4  2022  \n",
       "1            1      3  2022  \n",
       "2            2      7  2022  \n",
       "3            3      0  2022  \n",
       "4            3      8  2022  \n",
       "5            1      6  2022  \n",
       "6            0      5  2022  \n",
       "7            3      1  2022  \n",
       "8            1     11  2022  \n",
       "9            3     10  2022  "
      ]
     },
     "execution_count": 21,
     "metadata": {},
     "output_type": "execute_result"
    }
   ],
   "source": [
    "df.head(10)"
   ]
  },
  {
   "cell_type": "markdown",
   "id": "e8f78508",
   "metadata": {},
   "source": [
    "### round off"
   ]
  },
  {
   "cell_type": "code",
   "execution_count": 22,
   "id": "16d02ef4",
   "metadata": {},
   "outputs": [
    {
     "data": {
      "text/plain": [
       "0      41.0\n",
       "1      42.0\n",
       "2      38.0\n",
       "3      34.0\n",
       "4      41.0\n",
       "       ... \n",
       "142    41.0\n",
       "143    38.0\n",
       "144    34.0\n",
       "145    41.0\n",
       "146    42.0\n",
       "Name: Latitude, Length: 147, dtype: float64"
      ]
     },
     "execution_count": 22,
     "metadata": {},
     "output_type": "execute_result"
    }
   ],
   "source": [
    "df.Latitude.apply(np.round)"
   ]
  },
  {
   "cell_type": "code",
   "execution_count": 23,
   "id": "f922866e",
   "metadata": {},
   "outputs": [
    {
     "data": {
      "text/plain": [
       "0      -74.0\n",
       "1      -88.0\n",
       "2     -122.0\n",
       "3     -118.0\n",
       "4      -74.0\n",
       "       ...  \n",
       "142    -74.0\n",
       "143   -122.0\n",
       "144   -118.0\n",
       "145    -74.0\n",
       "146    -88.0\n",
       "Name: Longitude, Length: 147, dtype: float64"
      ]
     },
     "execution_count": 23,
     "metadata": {},
     "output_type": "execute_result"
    }
   ],
   "source": [
    "df.Longitude.apply(np.round)"
   ]
  },
  {
   "cell_type": "markdown",
   "id": "c10ad5b1",
   "metadata": {},
   "source": [
    "### checking for correlation"
   ]
  },
  {
   "cell_type": "code",
   "execution_count": 24,
   "id": "5ce1fa7d",
   "metadata": {},
   "outputs": [
    {
     "data": {
      "text/plain": [
       "<Axes: >"
      ]
     },
     "execution_count": 24,
     "metadata": {},
     "output_type": "execute_result"
    },
    {
     "data": {
      "image/png": "[encoded data removed]",
      "text/plain": [
       "<Figure size 640x480 with 2 Axes>"
      ]
     },
     "metadata": {},
     "output_type": "display_data"
    }
   ],
   "source": [
    "sns.heatmap(df.corr())"
   ]
  },
  {
   "cell_type": "markdown",
   "id": "b83a27ec",
   "metadata": {},
   "source": [
    "### check for duplicate values"
   ]
  },
  {
   "cell_type": "code",
   "execution_count": 25,
   "id": "95f8a101",
   "metadata": {},
   "outputs": [
    {
     "data": {
      "text/plain": [
       "110"
      ]
     },
     "execution_count": 25,
     "metadata": {},
     "output_type": "execute_result"
    }
   ],
   "source": [
    "df.duplicated().sum()"
   ]
  },
  {
   "cell_type": "markdown",
   "id": "55d62967",
   "metadata": {},
   "source": [
    "### checking for outliers "
   ]
  },
  {
   "cell_type": "code",
   "execution_count": 26,
   "id": "a5dc49c9",
   "metadata": {},
   "outputs": [
    {
     "data": {
      "text/plain": [
       "<Axes: >"
      ]
     },
     "execution_count": 26,
     "metadata": {},
     "output_type": "execute_result"
    },
    {
     "data": {
      "image/png": "[encoded data removed]",
      "text/plain": [
       "<Figure size 640x480 with 1 Axes>"
      ]
     },
     "metadata": {},
     "output_type": "display_data"
    }
   ],
   "source": [
    "sns.boxplot(df)"
   ]
  },
  {
   "cell_type": "markdown",
   "id": "871cbb88",
   "metadata": {},
   "source": [
    "### visualization"
   ]
  },
  {
   "cell_type": "code",
   "execution_count": 27,
   "id": "275d6ecd",
   "metadata": {},
   "outputs": [
    {
     "data": {
      "image/png": "[encoded data removed]",
      "text/plain": [
       "<Figure size 640x480 with 1 Axes>"
      ]
     },
     "metadata": {},
     "output_type": "display_data"
    }
   ],
   "source": [
    "sns.scatterplot(x='Weather Conditions', y='Vehicle Speed', hue='Injury Severity',data=df)\n",
    "plt.show()"
   ]
  },
  {
   "cell_type": "code",
   "execution_count": 28,
   "id": "468cf136",
   "metadata": {},
   "outputs": [
    {
     "data": {
      "text/plain": [
       "<Axes: xlabel='Injury Severity'>"
      ]
     },
     "execution_count": 28,
     "metadata": {},
     "output_type": "execute_result"
    },
    {
     "data": {
      "image/png": "[encoded data removed]",
      "text/plain": [
       "<Figure size 640x480 with 1 Axes>"
      ]
     },
     "metadata": {},
     "output_type": "display_data"
    }
   ],
   "source": [
    "df['Injury Severity'].value_counts().plot(kind='bar')"
   ]
  },
  {
   "cell_type": "code",
   "execution_count": 29,
   "id": "5a19ed11",
   "metadata": {},
   "outputs": [
    {
     "data": {
      "text/plain": [
       "<Axes: xlabel='Month', ylabel='No of Vehichles'>"
      ]
     },
     "execution_count": 29,
     "metadata": {},
     "output_type": "execute_result"
    },
    {
     "data": {
      "image/png": "[encoded data removed]",
      "text/plain": [
       "<Figure size 640x480 with 2 Axes>"
      ]
     },
     "metadata": {},
     "output_type": "display_data"
    }
   ],
   "source": [
    "sns.heatmap(pd.crosstab(df['No of Vehichles'],df['Month']))"
   ]
  },
  {
   "cell_type": "code",
   "execution_count": 30,
   "id": "15c74c94",
   "metadata": {},
   "outputs": [
    {
     "data": {
      "text/plain": [
       "<Axes: xlabel='Contributing Factors', ylabel='Density'>"
      ]
     },
     "execution_count": 30,
     "metadata": {},
     "output_type": "execute_result"
    },
    {
     "data": {
      "image/png": "[encoded data removed]",
      "text/plain": [
       "<Figure size 640x480 with 1 Axes>"
      ]
     },
     "metadata": {},
     "output_type": "display_data"
    }
   ],
   "source": [
    "sns.distplot(df['Contributing Factors'])"
   ]
  },
  {
   "cell_type": "code",
   "execution_count": 31,
   "id": "5d30cfe2",
   "metadata": {},
   "outputs": [
    {
     "data": {
      "image/png": "[encoded data removed]",
      "text/plain": [
       "<Figure size 640x480 with 1 Axes>"
      ]
     },
     "metadata": {},
     "output_type": "display_data"
    }
   ],
   "source": [
    "sns.scatterplot(x='Location Description', y='Vehicle Speed', hue='Injury Severity',data=df)\n",
    "plt.show()"
   ]
  },
  {
   "cell_type": "code",
   "execution_count": 32,
   "id": "c29064a0",
   "metadata": {},
   "outputs": [
    {
     "data": {
      "image/png": "[encoded data removed]",
      "text/plain": [
       "<Figure size 640x480 with 1 Axes>"
      ]
     },
     "metadata": {},
     "output_type": "display_data"
    }
   ],
   "source": [
    "sns.boxplot(x='Road Conditions', y='Accident Type', hue='Vehicle Type', data=df)\n",
    "plt.show()"
   ]
  },
  {
   "cell_type": "code",
   "execution_count": 33,
   "id": "1567195c",
   "metadata": {},
   "outputs": [
    {
     "data": {
      "text/plain": [
       "(array([36., 27., 24., 24., 36.]),\n",
       " array([ 0. ,  2.2,  4.4,  6.6,  8.8, 11. ]),\n",
       " <BarContainer object of 5 artists>)"
      ]
     },
     "execution_count": 33,
     "metadata": {},
     "output_type": "execute_result"
    },
    {
     "data": {
      "image/png": "[encoded data removed]",
      "text/plain": [
       "<Figure size 640x480 with 1 Axes>"
      ]
     },
     "metadata": {},
     "output_type": "display_data"
    }
   ],
   "source": [
    "plt.hist(df['Month'],bins=5)"
   ]
  },
  {
   "cell_type": "code",
   "execution_count": 34,
   "id": "0c89eadf",
   "metadata": {},
   "outputs": [
    {
     "data": {
      "text/plain": [
       "<Axes: xlabel='Road Conditions', ylabel='Density'>"
      ]
     },
     "execution_count": 34,
     "metadata": {},
     "output_type": "execute_result"
    },
    {
     "data": {
      "image/png": "[encoded data removed]",
      "text/plain": [
       "<Figure size 640x480 with 1 Axes>"
      ]
     },
     "metadata": {},
     "output_type": "display_data"
    }
   ],
   "source": [
    "sns.distplot(df[df['Accident Type']==0]['Road Conditions'],hist=False)\n",
    "sns.distplot(df[df['Accident Type']==1]['Road Conditions'],hist=False)"
   ]
  },
  {
   "cell_type": "markdown",
   "id": "09f32b97",
   "metadata": {},
   "source": [
    "### drop columns"
   ]
  },
  {
   "cell_type": "code",
   "execution_count": 35,
   "id": "e4375a26",
   "metadata": {},
   "outputs": [],
   "source": [
    "df.drop(['Day of Week','Month','Year','Latitude','Longitude','No of Vehichles'], axis=1, inplace=True)"
   ]
  },
  {
   "cell_type": "code",
   "execution_count": 36,
   "id": "1428a525",
   "metadata": {},
   "outputs": [
    {
     "data": {
      "text/html": [
       "<div>\n",
       "<style scoped>\n",
       "    .dataframe tbody tr th:only-of-type {\n",
       "        vertical-align: middle;\n",
       "    }\n",
       "\n",
       "    .dataframe tbody tr th {\n",
       "        vertical-align: top;\n",
       "    }\n",
       "\n",
       "    .dataframe thead th {\n",
       "        text-align: right;\n",
       "    }\n",
       "</style>\n",
       "<table border=\"1\" class=\"dataframe\">\n",
       "  <thead>\n",
       "    <tr style=\"text-align: right;\">\n",
       "      <th></th>\n",
       "      <th>Location Description</th>\n",
       "      <th>Weather Conditions</th>\n",
       "      <th>Road Conditions</th>\n",
       "      <th>Visibility</th>\n",
       "      <th>Accident Type</th>\n",
       "      <th>Injury Severity</th>\n",
       "      <th>Contributing Factors</th>\n",
       "      <th>Vehicle Type</th>\n",
       "      <th>Vehicle Speed</th>\n",
       "    </tr>\n",
       "  </thead>\n",
       "  <tbody>\n",
       "    <tr>\n",
       "      <th>0</th>\n",
       "      <td>0</td>\n",
       "      <td>1</td>\n",
       "      <td>1</td>\n",
       "      <td>1</td>\n",
       "      <td>0</td>\n",
       "      <td>1</td>\n",
       "      <td>3</td>\n",
       "      <td>2</td>\n",
       "      <td>45</td>\n",
       "    </tr>\n",
       "    <tr>\n",
       "      <th>1</th>\n",
       "      <td>2</td>\n",
       "      <td>2</td>\n",
       "      <td>1</td>\n",
       "      <td>1</td>\n",
       "      <td>1</td>\n",
       "      <td>2</td>\n",
       "      <td>1</td>\n",
       "      <td>1</td>\n",
       "      <td>40</td>\n",
       "    </tr>\n",
       "    <tr>\n",
       "      <th>2</th>\n",
       "      <td>1</td>\n",
       "      <td>0</td>\n",
       "      <td>0</td>\n",
       "      <td>0</td>\n",
       "      <td>0</td>\n",
       "      <td>1</td>\n",
       "      <td>4</td>\n",
       "      <td>0</td>\n",
       "      <td>25</td>\n",
       "    </tr>\n",
       "    <tr>\n",
       "      <th>3</th>\n",
       "      <td>0</td>\n",
       "      <td>0</td>\n",
       "      <td>0</td>\n",
       "      <td>0</td>\n",
       "      <td>0</td>\n",
       "      <td>0</td>\n",
       "      <td>2</td>\n",
       "      <td>0</td>\n",
       "      <td>35</td>\n",
       "    </tr>\n",
       "    <tr>\n",
       "      <th>4</th>\n",
       "      <td>2</td>\n",
       "      <td>2</td>\n",
       "      <td>1</td>\n",
       "      <td>1</td>\n",
       "      <td>0</td>\n",
       "      <td>2</td>\n",
       "      <td>3</td>\n",
       "      <td>0</td>\n",
       "      <td>50</td>\n",
       "    </tr>\n",
       "  </tbody>\n",
       "</table>\n",
       "</div>"
      ],
      "text/plain": [
       "   Location Description  Weather Conditions  Road Conditions  Visibility  \\\n",
       "0                     0                   1                1           1   \n",
       "1                     2                   2                1           1   \n",
       "2                     1                   0                0           0   \n",
       "3                     0                   0                0           0   \n",
       "4                     2                   2                1           1   \n",
       "\n",
       "   Accident Type  Injury Severity  Contributing Factors  Vehicle Type  \\\n",
       "0              0                1                     3             2   \n",
       "1              1                2                     1             1   \n",
       "2              0                1                     4             0   \n",
       "3              0                0                     2             0   \n",
       "4              0                2                     3             0   \n",
       "\n",
       "   Vehicle Speed  \n",
       "0             45  \n",
       "1             40  \n",
       "2             25  \n",
       "3             35  \n",
       "4             50  "
      ]
     },
     "execution_count": 36,
     "metadata": {},
     "output_type": "execute_result"
    }
   ],
   "source": [
    "df.head()"
   ]
  },
  {
   "cell_type": "markdown",
   "id": "225e2645",
   "metadata": {},
   "source": [
    "### Find-S algorithm"
   ]
  },
  {
   "cell_type": "code",
   "execution_count": 37,
   "id": "afbff51a",
   "metadata": {},
   "outputs": [
    {
     "name": "stdout",
     "output_type": "stream",
     "text": [
      "n The attributes are:       Location Description  Weather Conditions  Road Conditions  Visibility  \\\n",
      "0                       0                   1                1           1   \n",
      "1                       2                   2                1           1   \n",
      "2                       1                   0                0           0   \n",
      "3                       0                   0                0           0   \n",
      "4                       2                   2                1           1   \n",
      "..                    ...                 ...              ...         ...   \n",
      "142                     2                   2                1           1   \n",
      "143                     0                   0                0           0   \n",
      "144                     2                   0                0           0   \n",
      "145                     1                   2                1           1   \n",
      "146                     0                   0                0           0   \n",
      "\n",
      "     Accident Type  Injury Severity  Contributing Factors  Vehicle Type  \\\n",
      "0                0                1                     3             2   \n",
      "1                1                2                     1             1   \n",
      "2                0                1                     4             0   \n",
      "3                0                0                     2             0   \n",
      "4                0                2                     3             0   \n",
      "..             ...              ...                   ...           ...   \n",
      "142              1                2                     1             1   \n",
      "143              0                1                     4             0   \n",
      "144              0                0                     2             0   \n",
      "145              0                2                     3             0   \n",
      "146              1                0                     0             2   \n",
      "\n",
      "     Vehicle Speed  \n",
      "0               45  \n",
      "1               40  \n",
      "2               25  \n",
      "3               35  \n",
      "4               50  \n",
      "..             ...  \n",
      "142             30  \n",
      "143             35  \n",
      "144             45  \n",
      "145             55  \n",
      "146             30  \n",
      "\n",
      "[147 rows x 9 columns]\n"
     ]
    }
   ],
   "source": [
    "d = np.array(df)\n",
    "print(\"n The attributes are: \",df)"
   ]
  },
  {
   "cell_type": "code",
   "execution_count": 38,
   "id": "1fc91dde",
   "metadata": {},
   "outputs": [
    {
     "name": "stdout",
     "output_type": "stream",
     "text": [
      "n The target is:  [1 2 1 0 2 0 1 2 1 0 2 0 1 2 1 0 2 0 1 2 1 0 2 0 1 2 1 0 2 0 1 2 1 0 2 0 0\n",
      " 1 2 1 0 2 0 1 2 1 0 2 0 1 2 1 0 2 0 1 2 1 0 2 0 1 2 1 0 2 0 1 2 1 0 2 0 0\n",
      " 1 2 1 0 2 0 1 2 1 0 2 0 1 2 1 0 2 0 1 2 1 0 2 0 1 2 1 0 2 0 1 2 1 0 2 0 0\n",
      " 1 2 1 0 2 0 1 2 1 0 2 0 1 2 1 0 2 0 1 2 1 0 2 0 1 2 1 0 2 0 1 2 1 0 2 0]\n"
     ]
    }
   ],
   "source": [
    "target = np.array(df['Injury Severity'])\n",
    "print(\"n The target is: \",target)"
   ]
  },
  {
   "cell_type": "code",
   "execution_count": 39,
   "id": "f6a4326f",
   "metadata": {},
   "outputs": [],
   "source": [
    "def train(c,t):\n",
    "    for i, val in enumerate(t):\n",
    "        if val == \"Yes\":\n",
    "            specific_hypothesis = c[i].copy()\n",
    "            break\n",
    "    for i, val in enumerate(c):\n",
    "        if t[i] == \"Yes\":\n",
    "            for x in range(len(specific_hypothesis)):\n",
    "                if val[x] != specific_hypothesis[x]:\n",
    "                    specific_hypothesis[x] = '?'\n",
    "                else:\n",
    "                    pass\n",
    "        return specific_hypothesis"
   ]
  },
  {
   "cell_type": "code",
   "execution_count": 40,
   "id": "e4986a0e",
   "metadata": {},
   "outputs": [
    {
     "name": "stdout",
     "output_type": "stream",
     "text": [
      "\n",
      "The Find S hyposthesis is as follows\n",
      "The final hypothesis is: <function train at 0x000001FACC896F20>\n"
     ]
    }
   ],
   "source": [
    "print(\"\\nThe Find S hyposthesis is as follows\")\n",
    "print(\"The final hypothesis is:\",train)"
   ]
  },
  {
   "cell_type": "code",
   "execution_count": null,
   "id": "60ba5b37",
   "metadata": {},
   "outputs": [],
   "source": []
  }
 ],
 "metadata": {
  "kernelspec": {
   "display_name": "Python 3 (ipykernel)",
   "language": "python",
   "name": "python3"
  },
  "language_info": {
   "codemirror_mode": {
    "name": "ipython",
    "version": 3
   },
   "file_extension": ".py",
   "mimetype": "text/x-python",
   "name": "python",
   "nbconvert_exporter": "python",
   "pygments_lexer": "ipython3",
   "version": "3.11.5"
  }
 },
 "nbformat": 4,
 "nbformat_minor": 5
}
